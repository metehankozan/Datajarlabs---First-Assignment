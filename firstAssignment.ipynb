{
 "cells": [
  {
   "cell_type": "markdown",
   "id": "ordinary-personality",
   "metadata": {},
   "source": [
    "## 1."
   ]
  },
  {
   "cell_type": "code",
   "execution_count": 33,
   "id": "declared-malaysia",
   "metadata": {},
   "outputs": [],
   "source": [
    "money = 1000 # in $"
   ]
  },
  {
   "cell_type": "code",
   "execution_count": 25,
   "id": "global-workplace",
   "metadata": {},
   "outputs": [],
   "source": [
    "rise = 12 # percentage per day"
   ]
  },
  {
   "cell_type": "code",
   "execution_count": 35,
   "id": "prostate-secretariat",
   "metadata": {},
   "outputs": [],
   "source": [
    "money += money * rise / 100\n",
    "money += money * rise / 100\n",
    "money += money * rise / 100\n",
    "money += money * rise / 100\n",
    "money += money * rise / 100\n",
    "money += money * rise / 100\n",
    "money += money * rise / 100"
   ]
  },
  {
   "cell_type": "markdown",
   "id": "generous-prairie",
   "metadata": {},
   "source": [
    "## 2."
   ]
  },
  {
   "cell_type": "code",
   "execution_count": 13,
   "id": "chief-midnight",
   "metadata": {},
   "outputs": [],
   "source": [
    "# \"Hafta başında 1000 dolarlık bitcoin aldığımızda günde ortalama %12 kazançla, bir hafta sonunda 1210.68 dolar kazanırdık\""
   ]
  },
  {
   "cell_type": "code",
   "execution_count": 37,
   "id": "fatal-clark",
   "metadata": {},
   "outputs": [
    {
     "name": "stdout",
     "output_type": "stream",
     "text": [
      " \"Hafta başında 1000 dolarlık bitcoin aldığımızda günde ortalama %12 kazançla, bir hafta sonunda 1210.68 dolar kazanırdık\"\n"
     ]
    }
   ],
   "source": [
    "print(' \"Hafta başında {} dolarlık bitcoin aldığımızda günde ortalama %{} kazançla, '.format(1000,rise),end='')\n",
    "print('bir hafta sonunda {:.2f} dolar kazanırdık\"'.format(money-1000))\n",
    "      "
   ]
  },
  {
   "cell_type": "markdown",
   "id": "musical-hamburg",
   "metadata": {},
   "source": [
    "## 3."
   ]
  },
  {
   "cell_type": "code",
   "execution_count": 39,
   "id": "recognized-evening",
   "metadata": {},
   "outputs": [
    {
     "name": "stdout",
     "output_type": "stream",
     "text": [
      "enter the name of filefile\n",
      "file.py\n"
     ]
    }
   ],
   "source": [
    "fileName = input('enter the name of file')\n",
    "print(fileName+'.py')"
   ]
  }
 ],
 "metadata": {
  "kernelspec": {
   "display_name": "Python 3",
   "language": "python",
   "name": "python3"
  },
  "language_info": {
   "codemirror_mode": {
    "name": "ipython",
    "version": 3
   },
   "file_extension": ".py",
   "mimetype": "text/x-python",
   "name": "python",
   "nbconvert_exporter": "python",
   "pygments_lexer": "ipython3",
   "version": "3.8.0"
  }
 },
 "nbformat": 4,
 "nbformat_minor": 5
}
